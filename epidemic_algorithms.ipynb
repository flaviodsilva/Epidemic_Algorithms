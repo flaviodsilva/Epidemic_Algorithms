{
  "cells": [
    {
      "cell_type": "code",
      "execution_count": null,
      "metadata": {
        "id": "w74nXABTH-_j"
      },
      "outputs": [],
      "source": [
        "#Import packages\n",
        "import numpy as np\n",
        "import networkx as nx\n",
        "import matplotlib.pyplot as plt\n",
        "from operator import itemgetter\n",
        "from time import sleep, perf_counter\n",
        "from threading import Thread, Barrier, Lock\n",
        "import threading\n",
        "from random import randrange, randint\n",
        "from IPython.display import clear_output\n",
        "import pydot\n",
        "from networkx.drawing.nx_pydot import graphviz_layout"
      ]
    },
    {
      "cell_type": "code",
      "execution_count": null,
      "metadata": {
        "id": "_bXa2tDD0p46"
      },
      "outputs": [],
      "source": [
        "#System Parameters\n",
        "n_nodes = 200                         #Number of nodes in the network\n",
        "radius = 5                        #Area around the node that will cause a connection\n",
        "seed = 2                              #Seed used to generate the nodes\n",
        "topology = \"full mesh\"        \n",
        "\n",
        "initial_node_type = \"center\"          #First infected node type. Options: 1.manual select 2. edge density 3. center\n",
        "first_infected_node = 0               #First infected node in the system\n",
        "\n",
        "antientropy_type = \"pull\"             #Type of anti entropy algorithm used. Options: 1. push 2. pull 3. push-pull\n",
        "message_failure_prob = 0              #Probability of a message not reaching its destination\n",
        "node_failure_prob = 0                 #Probability of a node crash (por mil)"
      ]
    },
    {
      "cell_type": "code",
      "execution_count": null,
      "metadata": {
        "id": "GXpeVWvYIUEf"
      },
      "outputs": [],
      "source": [
        "#Auxiliary functions\n",
        "\n",
        "#global variable\n",
        "color_map = []                        #Data structer that stores the state of all nodes\n",
        "updated_color_map = []                #Same as color_map\n",
        "threads = []                          #List of threads\n",
        "lc = Lock()                           #Barrier used to force threads to wait until all of them run an iteration\n",
        "messages = []                         #List of the number of messages sent per round\n",
        "avg_messages = []\n",
        "n_mess = 0\n",
        "progress = []                         #List of the number of infected nodes per round\n",
        "avg_progress = []                     #List of average infected nodes when simulating several times\n",
        "occ = []                              #Helper list, used to calculate the average (avg_progress)\n",
        "crash_list = []\n",
        "G = None\n",
        "pos = None\n",
        "connections_array = []\n",
        "\n",
        "#This function serves the purpose of changing the color of an input node, meaning it is infected\n",
        "def infect_node(map, node):\n",
        "  map[node] = 'red'\n",
        "  return\n",
        "\n",
        "#Draw the graph\n",
        "def draw_graph(title=\"\"):\n",
        "  global G, pos\n",
        "  plt.figure(figsize=(8, 8))\n",
        "  nx.draw_networkx_edges(G, pos, alpha=0.4)\n",
        "  nx.draw_networkx_nodes(G, pos, node_size=20, node_color=color_map)\n",
        "  plt.axis(\"off\")\n",
        "  plt.title(title)\n",
        "  plt.show()\n",
        "  return\n",
        "\n",
        "#Used to update the image with the graph\n",
        "def update_graph(title):\n",
        "  sleep(0.5)\n",
        "  clear_output(wait=True)\n",
        "  draw_graph(title)\n",
        "  return\n",
        "\n",
        "#Counts the number of infected nodes and returns it\n",
        "def count_infected():\n",
        "  c=0\n",
        "  for i in range(len(color_map)):\n",
        "    if color_map[i] == \"red\":\n",
        "      c+=1\n",
        "  return c\n",
        "\n",
        "def init_infection():\n",
        "  generate_network()\n",
        "\n",
        "  progress.clear()\n",
        "  messages.clear()\n",
        "  color_map.clear()\n",
        "  updated_color_map.clear()\n",
        "  threads.clear()\n",
        "  crash_list.clear()\n",
        "  progress.append(count_infected())\n",
        "  messages.append(n_mess)\n",
        "\n",
        "  for i in range(n_nodes):\n",
        "    color_map.append('green')\n",
        "    updated_color_map.append('green')\n",
        "\n",
        "  ncenter = 0\n",
        "  if initial_node_type == \"manual select\":\n",
        "    ncenter = first_infected_node\n",
        "  if initial_node_type == \"edge density\":\n",
        "    n_max = 0\n",
        "    for i in range(n_nodes):\n",
        "      if G.degree(i) > n_max:\n",
        "        n_max = G.degree(i)\n",
        "        ncenter = i\n",
        "  if initial_node_type == \"center\":\n",
        "    dmin = 1000\n",
        "    posx_avg = 0\n",
        "    posy_avg = 0\n",
        "    for i in range(n_nodes):\n",
        "      posx_avg += np.sum(pos[i][0])\n",
        "      posy_avg += np.sum(pos[i][1])\n",
        "    posx_avg = posx_avg/n_nodes\n",
        "    posy_avg = posy_avg/n_nodes\n",
        "    for n in pos:\n",
        "      x, y = pos[n]\n",
        "      d = np.sqrt((x - posx_avg) ** 2 + (y - posy_avg) ** 2)\n",
        "      if d < dmin:\n",
        "        ncenter = n\n",
        "        dmin = d\n",
        "\n",
        "  infect_node(color_map, ncenter)\n",
        "  infect_node(updated_color_map, ncenter)\n",
        "  return\n",
        "\n",
        "#--------------------------------------------------------\n",
        "def generate_network():\n",
        "  #Generate network nodes and connections\n",
        "  global G\n",
        "  global pos\n",
        "  global connections_array\n",
        "\n",
        "  if topology == \"mesh\":\n",
        "    G = nx.random_geometric_graph(n_nodes, 0.125,seed=2)\n",
        "    pos = nx.get_node_attributes(G, \"pos\")\n",
        "  if topology == \"full mesh\":\n",
        "    G = nx.random_geometric_graph(n_nodes, 5,seed=2)\n",
        "    pos = nx.get_node_attributes(G, \"pos\")\n",
        "  if topology == \"tree\":\n",
        "    G = nx.random_tree(n_nodes, seed=seed)\n",
        "    pos = graphviz_layout(G, prog=\"twopi\")\n",
        "  if topology == \"line\":\n",
        "    G = nx.path_graph(n_nodes)\n",
        "    pos = nx.spring_layout(G, seed=1)\n",
        "  if topology == \"star\":\n",
        "    G = nx.star_graph(n_nodes-1)\n",
        "    pos = nx.spring_layout(G, seed=1)\n",
        "\n",
        "\n",
        "  #Create an array with all the node i connections\n",
        "  for i in range(n_nodes):\n",
        "    connections_array.append(list(G.neighbors(i)))\n",
        "\n",
        "\n",
        "#init_infection()\n",
        "#draw_graph()"
      ]
    },
    {
      "cell_type": "code",
      "execution_count": null,
      "metadata": {
        "id": "-fvxa7ccWCHt"
      },
      "outputs": [],
      "source": [
        "#threads\n",
        "\n",
        "def check_crash(index):\n",
        "  for i in range(len(crash_list)):\n",
        "    if crash_list[i] == index:\n",
        "      return 1\n",
        "  if randrange(100) < node_failure_prob:\n",
        "    crash_list.append(index)\n",
        "    G.remove_node(index)\n",
        "    return 1\n",
        "  return 0\n",
        "\n",
        "#This is the function that all threads will run\n",
        "def ae_push(neighbor, index):\n",
        "  global n_mess\n",
        "  lc.acquire()\n",
        "  if check_crash(index):\n",
        "    lc.release()\n",
        "    return\n",
        "  if color_map[index] == \"red\":                           #if thread(node) has the message to transmit/is infected\n",
        "    new = randrange(len(neighbor))                        #Choose random node from the list of neighbors\n",
        "    n_mess += 1                                           #\"Send\" message\n",
        "    if randrange(100) > message_failure_prob:             #Calculate if message is delivered\n",
        "      infect_node(updated_color_map, neighbor[new])       #If it is, infect the node\n",
        "  lc.release()\n",
        "  return\n",
        "\n",
        "def ae_pull(neighbor, index):\n",
        "  global n_mess\n",
        "  lc.acquire()\n",
        "  if check_crash(index):\n",
        "    lc.release()\n",
        "    return\n",
        "  if color_map[index] == \"green\":                         #if it doesnt have the message\n",
        "    new = randrange(len(neighbor))                        #select a random node from the list of neighbors\n",
        "    n_mess += 1                                           #Send message\n",
        "    if randrange(100) > message_failure_prob:             #Calculate if message is delivered\n",
        "      if color_map[neighbor[new]] == \"red\":               #if the selected node has the message\n",
        "        n_mess += 1                                       #Send message back\n",
        "        if randrange(100) > message_failure_prob:         #Calculate if message is delivered\n",
        "          infect_node(updated_color_map, index)           #Infect the node\n",
        "  lc.release()\n",
        "  return\n",
        "\n",
        "def ae_push_pull(neighbor, index):\n",
        "  global n_mess\n",
        "  lc.acquire()\n",
        "  if check_crash(index):\n",
        "    lc.release()\n",
        "    return\n",
        "  new = randrange(len(neighbor))                          #Choose random node from the list of neighbors\n",
        "  if color_map[index] == \"red\":                           #if this node has the message\n",
        "    n_mess += 1                                           #Send message\n",
        "    if randrange(100) > message_failure_prob:             #Calculate delivery problem\n",
        "      if color_map[neighbor[new]] == \"green\":             #If it doesnt have the message\n",
        "        infect_node(updated_color_map, neighbor[new])     #Update\n",
        "      n_mess += 1                                         #Send back message\n",
        "  elif color_map[index] == \"green\":                       #if this node doesnt have the message\n",
        "    n_mess += 1                                           #Send message\n",
        "    if randrange(100) > message_failure_prob:             #Calculate if message is delivered\n",
        "      if color_map[neighbor[new]] == \"red\":               #if the selected node has the message, update\n",
        "        if randrange(100) > message_failure_prob:         #Calculate delivery problem\n",
        "          infect_node(updated_color_map, index)           #Update\n",
        "      n_mess += 1                                         #Send back message\n",
        "  lc.release()\n",
        "  return\n",
        "\n",
        "\n",
        "def start_sim(type=antientropy_type, show_infection = False):\n",
        "  avg_progress.clear()\n",
        "  avg_messages.clear()\n",
        "  occ.clear()\n",
        "  for i in range(30):\n",
        "    global threads\n",
        "    global n_mess\n",
        "    init_infection()\n",
        "    if show_infection == True:\n",
        "      update_graph(\"\")\n",
        "    while count_infected() < n_nodes - len(crash_list):\n",
        "      if type == \"push\":\n",
        "        for i in range(n_nodes):\n",
        "          threads.append(Thread(target=ae_push, args=(connections_array[i],i)))\n",
        "          threads[i].start()\n",
        "      elif type == \"pull\":\n",
        "        for i in range(n_nodes):\n",
        "          threads.append(Thread(target=ae_pull, args=(connections_array[i],i)))\n",
        "          threads[i].start()\n",
        "      elif type == \"push-pull\":\n",
        "        for i in range(n_nodes):\n",
        "          threads.append(Thread(target=ae_push_pull, args=(connections_array[i],i)))\n",
        "          threads[i].start()\n",
        "          \n",
        "      for t in threads:\n",
        "        t.join()\n",
        "\n",
        "      for t in range(0, len(color_map)):\n",
        "        color_map[t] = updated_color_map[t]\n",
        "      progress.append(count_infected())\n",
        "      messages.append(n_mess)\n",
        "      n_mess = 0\n",
        "      threads = []\n",
        "      \n",
        "      if show_infection == True:\n",
        "        update_graph(\"\")\n",
        "\n",
        "    for k in range(len(progress)):\n",
        "      if k+1 > len(avg_progress):\n",
        "        avg_progress.append(progress[k])\n",
        "        avg_messages.append(messages[k])\n",
        "        occ.append(1)\n",
        "      else:\n",
        "        avg_progress[k] += progress[k]\n",
        "        avg_messages[k] += messages[k]\n",
        "        occ[k] += 1\n",
        "\n",
        "  for i in range(len(avg_progress)):\n",
        "    avg_progress[i] = avg_progress[i]/occ[i]\n",
        "    avg_messages[i] = avg_messages[i]/occ[i]"
      ]
    },
    {
      "cell_type": "code",
      "source": [
        "def graph_perc():\n",
        "  perc_progress = []\n",
        "  x = range(0,len(avg_progress))\n",
        "  for i in range(len(avg_progress)):\n",
        "    perc_progress.append(avg_progress[i]*100/n_nodes)\n",
        "  plt.plot(x, perc_progress, '-o')\n",
        "  plt.ylabel(\"Infected %\")\n",
        "  plt.xlabel(\"Time units\")\n",
        "  plt.title(\"Type: \" + antientropy_type)\n",
        "  plt.show()\n",
        "\n",
        "def graph_inf():\n",
        "  new_progress = []\n",
        "  x = range(0,len(avg_progress))\n",
        "  for i in range(len(avg_progress)):\n",
        "    if i == 0:\n",
        "      new_progress.append(avg_progress[i])\n",
        "    else:\n",
        "      new_progress.append(avg_progress[i]-avg_progress[i-1])\n",
        "  plt.plot(x, new_progress, '-o')\n",
        "  plt.ylabel(\"Number of Infected\")\n",
        "  plt.xlabel(\"Round\")\n",
        "  plt.show()\n",
        "\n",
        "def graph_messages():\n",
        "  x = range(0,len(avg_messages))\n",
        "  plt.plot(x, avg_messages, '-o')\n",
        "  plt.ylabel(\"Number of messages\")\n",
        "  plt.xlabel(\"Rounds\")\n",
        "  plt.show()\n",
        "\n",
        "#--------------------------------------------------------------------\n",
        "\n",
        "start_sim()\n",
        "#start_sim(show_infection=True)\n",
        "\n",
        "graph_perc()\n",
        "graph_inf()\n",
        "graph_messages()\n"
      ],
      "metadata": {
        "colab": {
          "base_uri": "https://localhost:8080/",
          "height": 819
        },
        "id": "b8L7cKzkEMw5",
        "outputId": "34860b93-2a2d-463c-8891-48048c61947e"
      },
      "execution_count": null,
      "outputs": [
        {
          "output_type": "display_data",
          "data": {
            "image/png": "[encoded data removed]",
            "text/plain": [
              "<Figure size 432x288 with 1 Axes>"
            ]
          },
          "metadata": {
            "needs_background": "light"
          }
        },
        {
          "output_type": "display_data",
          "data": {
            "image/png": "[encoded data removed]",
            "text/plain": [
              "<Figure size 432x288 with 1 Axes>"
            ]
          },
          "metadata": {
            "needs_background": "light"
          }
        },
        {
          "output_type": "display_data",
          "data": {
            "image/png": "[encoded data removed]",
            "text/plain": [
              "<Figure size 432x288 with 1 Axes>"
            ]
          },
          "metadata": {
            "needs_background": "light"
          }
        }
      ]
    },
    {
      "cell_type": "code",
      "source": [
        "#This cell will be used to print information about the simulation above\n",
        "\n",
        "for i in range(len(avg_progress)):\n",
        "  if avg_progress[i] >= 0.25*n_nodes:\n",
        "    print(\"Number of rounds to infect 25%: \", i)\n",
        "    break\n",
        "\n",
        "for i in range(len(avg_progress)):\n",
        "  if avg_progress[i] >= 0.5*n_nodes:\n",
        "    print(\"Number of rounds to infect 50%: \", i)\n",
        "    break\n",
        "\n",
        "for i in range(len(avg_progress)):\n",
        "  if avg_progress[i] >= 0.75*n_nodes:\n",
        "    print(\"Number of rounds to infect 75%: \", i)\n",
        "    break\n",
        "\n",
        "print(\"Number of rounds to infect 100%: \", len(avg_progress))\n",
        "\n",
        "print(\"\\n\")\n",
        "\n",
        "print(\"Total number of messages: \", round(sum(avg_messages)))\n",
        "print(\"Number of messages per round: \", round(sum(avg_messages)/len(avg_messages),2))\n",
        "print(\"Number of messages per node: \", round(sum(avg_messages)/n_nodes, 2))\n",
        "print(\"Number of messages per node per round:\", round(sum(avg_messages)/n_nodes/len(avg_messages), 3))"
      ],
      "metadata": {
        "colab": {
          "base_uri": "https://localhost:8080/"
        },
        "id": "2MlGAXu_EgK1",
        "outputId": "24b55b07-b5f4-45fe-a0b1-8933d5ea6ee2"
      },
      "execution_count": null,
      "outputs": [
        {
          "output_type": "stream",
          "name": "stdout",
          "text": [
            "Number of rounds to infect 25%:  35\n",
            "Number of rounds to infect 50%:  92\n",
            "Number of rounds to infect 75%:  158\n",
            "Number of rounds to infect 100%:  246\n",
            "\n",
            "\n",
            "Total number of messages:  97519\n",
            "Number of messages per round:  396.42\n",
            "Number of messages per node:  487.59\n",
            "Number of messages per node per round: 1.982\n"
          ]
        }
      ]
    },
    {
      "cell_type": "code",
      "source": [
        "#Test all three together\n",
        "perc_progress = []\n",
        "avg_progress.clear()\n",
        "occ.clear()\n",
        "start_sim(\"push\")\n",
        "x = range(0,len(avg_progress))\n",
        "for i in range(len(avg_progress)):\n",
        "  perc_progress.append(avg_progress[i]*100/n_nodes)\n",
        "plt.plot(x, perc_progress, '-o', color=\"g\", label=\"push\")\n",
        "plt.xticks(x)\n",
        "\n",
        "perc_progress.clear()\n",
        "avg_progress.clear()\n",
        "occ.clear()\n",
        "start_sim(\"pull\")\n",
        "x = range(0,len(avg_progress))\n",
        "for i in range(len(avg_progress)):\n",
        "  perc_progress.append(avg_progress[i]*100/n_nodes)\n",
        "plt.plot(x, perc_progress, '-o', color=\"orange\", label=\"pull\")\n",
        "\n",
        "perc_progress.clear()\n",
        "avg_progress.clear()\n",
        "occ.clear()\n",
        "start_sim(\"push-pull\")\n",
        "x = range(0,len(avg_progress))\n",
        "for i in range(len(avg_progress)):\n",
        "  perc_progress.append(avg_progress[i]*100/n_nodes)\n",
        "plt.plot(x, perc_progress, '-o', color=\"blue\", label=\"push-pull\")\n",
        "\n",
        "plt.ylabel(\"Infected %\")\n",
        "plt.xlabel(\"Time units\")\n",
        "plt.title(\"Comparison of the 3 types\")\n",
        "plt.legend()\n",
        "from google.colab import files\n",
        "plt.savefig(\"compare_all_fullmesh.png\")\n",
        "files.download(\"compare_all_fullmesh.png\")\n",
        "plt.show()\n",
        "\n"
      ],
      "metadata": {
        "colab": {
          "base_uri": "https://localhost:8080/",
          "height": 381
        },
        "id": "s8enRTGTI7ST",
        "outputId": "f61abd91-4a27-47fb-efa0-cc62c242b1fe"
      },
      "execution_count": null,
      "outputs": [
        {
          "output_type": "error",
          "ename": "KeyboardInterrupt",
          "evalue": "ignored",
          "traceback": [
            "\u001b[0;31m---------------------------------------------------------------------------\u001b[0m",
            "\u001b[0;31mKeyboardInterrupt\u001b[0m                         Traceback (most recent call last)",
            "\u001b[0;32m<ipython-input-28-b1acd38040ef>\u001b[0m in \u001b[0;36m<module>\u001b[0;34m()\u001b[0m\n\u001b[1;32m      3\u001b[0m \u001b[0mavg_progress\u001b[0m\u001b[0;34m.\u001b[0m\u001b[0mclear\u001b[0m\u001b[0;34m(\u001b[0m\u001b[0;34m)\u001b[0m\u001b[0;34m\u001b[0m\u001b[0;34m\u001b[0m\u001b[0m\n\u001b[1;32m      4\u001b[0m \u001b[0mocc\u001b[0m\u001b[0;34m.\u001b[0m\u001b[0mclear\u001b[0m\u001b[0;34m(\u001b[0m\u001b[0;34m)\u001b[0m\u001b[0;34m\u001b[0m\u001b[0;34m\u001b[0m\u001b[0m\n\u001b[0;32m----> 5\u001b[0;31m \u001b[0mstart_sim\u001b[0m\u001b[0;34m(\u001b[0m\u001b[0;34m\"push\"\u001b[0m\u001b[0;34m)\u001b[0m\u001b[0;34m\u001b[0m\u001b[0;34m\u001b[0m\u001b[0m\n\u001b[0m\u001b[1;32m      6\u001b[0m \u001b[0mx\u001b[0m \u001b[0;34m=\u001b[0m \u001b[0mrange\u001b[0m\u001b[0;34m(\u001b[0m\u001b[0;36m0\u001b[0m\u001b[0;34m,\u001b[0m\u001b[0mlen\u001b[0m\u001b[0;34m(\u001b[0m\u001b[0mavg_progress\u001b[0m\u001b[0;34m)\u001b[0m\u001b[0;34m)\u001b[0m\u001b[0;34m\u001b[0m\u001b[0;34m\u001b[0m\u001b[0m\n\u001b[1;32m      7\u001b[0m \u001b[0;32mfor\u001b[0m \u001b[0mi\u001b[0m \u001b[0;32min\u001b[0m \u001b[0mrange\u001b[0m\u001b[0;34m(\u001b[0m\u001b[0mlen\u001b[0m\u001b[0;34m(\u001b[0m\u001b[0mavg_progress\u001b[0m\u001b[0;34m)\u001b[0m\u001b[0;34m)\u001b[0m\u001b[0;34m:\u001b[0m\u001b[0;34m\u001b[0m\u001b[0;34m\u001b[0m\u001b[0m\n",
            "\u001b[0;32m<ipython-input-26-4a8fdf0f0605>\u001b[0m in \u001b[0;36mstart_sim\u001b[0;34m(type, show_infection)\u001b[0m\n\u001b[1;32m     82\u001b[0m         \u001b[0;32mfor\u001b[0m \u001b[0mi\u001b[0m \u001b[0;32min\u001b[0m \u001b[0mrange\u001b[0m\u001b[0;34m(\u001b[0m\u001b[0mn_nodes\u001b[0m\u001b[0;34m)\u001b[0m\u001b[0;34m:\u001b[0m\u001b[0;34m\u001b[0m\u001b[0;34m\u001b[0m\u001b[0m\n\u001b[1;32m     83\u001b[0m           \u001b[0mthreads\u001b[0m\u001b[0;34m.\u001b[0m\u001b[0mappend\u001b[0m\u001b[0;34m(\u001b[0m\u001b[0mThread\u001b[0m\u001b[0;34m(\u001b[0m\u001b[0mtarget\u001b[0m\u001b[0;34m=\u001b[0m\u001b[0mae_push\u001b[0m\u001b[0;34m,\u001b[0m \u001b[0margs\u001b[0m\u001b[0;34m=\u001b[0m\u001b[0;34m(\u001b[0m\u001b[0mconnections_array\u001b[0m\u001b[0;34m[\u001b[0m\u001b[0mi\u001b[0m\u001b[0;34m]\u001b[0m\u001b[0;34m,\u001b[0m\u001b[0mi\u001b[0m\u001b[0;34m)\u001b[0m\u001b[0;34m)\u001b[0m\u001b[0;34m)\u001b[0m\u001b[0;34m\u001b[0m\u001b[0;34m\u001b[0m\u001b[0m\n\u001b[0;32m---> 84\u001b[0;31m           \u001b[0mthreads\u001b[0m\u001b[0;34m[\u001b[0m\u001b[0mi\u001b[0m\u001b[0;34m]\u001b[0m\u001b[0;34m.\u001b[0m\u001b[0mstart\u001b[0m\u001b[0;34m(\u001b[0m\u001b[0;34m)\u001b[0m\u001b[0;34m\u001b[0m\u001b[0;34m\u001b[0m\u001b[0m\n\u001b[0m\u001b[1;32m     85\u001b[0m       \u001b[0;32melif\u001b[0m \u001b[0mtype\u001b[0m \u001b[0;34m==\u001b[0m \u001b[0;34m\"pull\"\u001b[0m\u001b[0;34m:\u001b[0m\u001b[0;34m\u001b[0m\u001b[0;34m\u001b[0m\u001b[0m\n\u001b[1;32m     86\u001b[0m         \u001b[0;32mfor\u001b[0m \u001b[0mi\u001b[0m \u001b[0;32min\u001b[0m \u001b[0mrange\u001b[0m\u001b[0;34m(\u001b[0m\u001b[0mn_nodes\u001b[0m\u001b[0;34m)\u001b[0m\u001b[0;34m:\u001b[0m\u001b[0;34m\u001b[0m\u001b[0;34m\u001b[0m\u001b[0m\n",
            "\u001b[0;32m/usr/lib/python3.7/threading.py\u001b[0m in \u001b[0;36mstart\u001b[0;34m(self)\u001b[0m\n\u001b[1;32m    855\u001b[0m                 \u001b[0;32mdel\u001b[0m \u001b[0m_limbo\u001b[0m\u001b[0;34m[\u001b[0m\u001b[0mself\u001b[0m\u001b[0;34m]\u001b[0m\u001b[0;34m\u001b[0m\u001b[0;34m\u001b[0m\u001b[0m\n\u001b[1;32m    856\u001b[0m             \u001b[0;32mraise\u001b[0m\u001b[0;34m\u001b[0m\u001b[0;34m\u001b[0m\u001b[0m\n\u001b[0;32m--> 857\u001b[0;31m         \u001b[0mself\u001b[0m\u001b[0;34m.\u001b[0m\u001b[0m_started\u001b[0m\u001b[0;34m.\u001b[0m\u001b[0mwait\u001b[0m\u001b[0;34m(\u001b[0m\u001b[0;34m)\u001b[0m\u001b[0;34m\u001b[0m\u001b[0;34m\u001b[0m\u001b[0m\n\u001b[0m\u001b[1;32m    858\u001b[0m \u001b[0;34m\u001b[0m\u001b[0m\n\u001b[1;32m    859\u001b[0m     \u001b[0;32mdef\u001b[0m \u001b[0mrun\u001b[0m\u001b[0;34m(\u001b[0m\u001b[0mself\u001b[0m\u001b[0;34m)\u001b[0m\u001b[0;34m:\u001b[0m\u001b[0;34m\u001b[0m\u001b[0;34m\u001b[0m\u001b[0m\n",
            "\u001b[0;32m/usr/lib/python3.7/threading.py\u001b[0m in \u001b[0;36mwait\u001b[0;34m(self, timeout)\u001b[0m\n\u001b[1;32m    550\u001b[0m             \u001b[0msignaled\u001b[0m \u001b[0;34m=\u001b[0m \u001b[0mself\u001b[0m\u001b[0;34m.\u001b[0m\u001b[0m_flag\u001b[0m\u001b[0;34m\u001b[0m\u001b[0;34m\u001b[0m\u001b[0m\n\u001b[1;32m    551\u001b[0m             \u001b[0;32mif\u001b[0m \u001b[0;32mnot\u001b[0m \u001b[0msignaled\u001b[0m\u001b[0;34m:\u001b[0m\u001b[0;34m\u001b[0m\u001b[0;34m\u001b[0m\u001b[0m\n\u001b[0;32m--> 552\u001b[0;31m                 \u001b[0msignaled\u001b[0m \u001b[0;34m=\u001b[0m \u001b[0mself\u001b[0m\u001b[0;34m.\u001b[0m\u001b[0m_cond\u001b[0m\u001b[0;34m.\u001b[0m\u001b[0mwait\u001b[0m\u001b[0;34m(\u001b[0m\u001b[0mtimeout\u001b[0m\u001b[0;34m)\u001b[0m\u001b[0;34m\u001b[0m\u001b[0;34m\u001b[0m\u001b[0m\n\u001b[0m\u001b[1;32m    553\u001b[0m             \u001b[0;32mreturn\u001b[0m \u001b[0msignaled\u001b[0m\u001b[0;34m\u001b[0m\u001b[0;34m\u001b[0m\u001b[0m\n\u001b[1;32m    554\u001b[0m \u001b[0;34m\u001b[0m\u001b[0m\n",
            "\u001b[0;32m/usr/lib/python3.7/threading.py\u001b[0m in \u001b[0;36mwait\u001b[0;34m(self, timeout)\u001b[0m\n\u001b[1;32m    294\u001b[0m         \u001b[0;32mtry\u001b[0m\u001b[0;34m:\u001b[0m    \u001b[0;31m# restore state no matter what (e.g., KeyboardInterrupt)\u001b[0m\u001b[0;34m\u001b[0m\u001b[0;34m\u001b[0m\u001b[0m\n\u001b[1;32m    295\u001b[0m             \u001b[0;32mif\u001b[0m \u001b[0mtimeout\u001b[0m \u001b[0;32mis\u001b[0m \u001b[0;32mNone\u001b[0m\u001b[0;34m:\u001b[0m\u001b[0;34m\u001b[0m\u001b[0;34m\u001b[0m\u001b[0m\n\u001b[0;32m--> 296\u001b[0;31m                 \u001b[0mwaiter\u001b[0m\u001b[0;34m.\u001b[0m\u001b[0macquire\u001b[0m\u001b[0;34m(\u001b[0m\u001b[0;34m)\u001b[0m\u001b[0;34m\u001b[0m\u001b[0;34m\u001b[0m\u001b[0m\n\u001b[0m\u001b[1;32m    297\u001b[0m                 \u001b[0mgotit\u001b[0m \u001b[0;34m=\u001b[0m \u001b[0;32mTrue\u001b[0m\u001b[0;34m\u001b[0m\u001b[0;34m\u001b[0m\u001b[0m\n\u001b[1;32m    298\u001b[0m             \u001b[0;32melse\u001b[0m\u001b[0;34m:\u001b[0m\u001b[0;34m\u001b[0m\u001b[0;34m\u001b[0m\u001b[0m\n",
            "\u001b[0;31mKeyboardInterrupt\u001b[0m: "
          ]
        }
      ]
    },
    {
      "cell_type": "code",
      "source": [
        "avg_progress.clear()\n",
        "occ.clear()\n",
        "\n",
        "colors = [\"blue\", \"green\", \"red\", \"orange\", \"magenta\", \"yellow\"]\n",
        "labels = [\"0%\", \"10%\", \"20%\", \"30%\", \"40%\", \"50%\"]\n",
        "\n",
        "for j in range(len(labels)):\n",
        "  perc_progress = []\n",
        "  avg_progress.clear()\n",
        "  occ.clear()\n",
        "  message_failure_prob = j*10\n",
        "  start_sim()\n",
        "  x = range(0,len(avg_progress))\n",
        "  for i in range(len(avg_progress)):\n",
        "    perc_progress.append(avg_progress[i]*100/n_nodes)\n",
        "  plt.plot(x, perc_progress, '-o', color=colors[j], label=labels[j])\n",
        "\n",
        "plt.legend()\n",
        "from google.colab import files\n",
        "plt.savefig(\"compare_msg_failure_push-pull_mesh.png\")\n",
        "files.download(\"compare_msg_failure_push-pull_mesh.png\")\n",
        "plt.show()"
      ],
      "metadata": {
        "colab": {
          "base_uri": "https://localhost:8080/",
          "height": 265
        },
        "id": "mSa70BgsmWBk",
        "outputId": "7a7651aa-3946-4979-e245-2118cd99b442"
      },
      "execution_count": null,
      "outputs": [
        {
          "output_type": "display_data",
          "data": {
            "application/javascript": [
              "\n",
              "    async function download(id, filename, size) {\n",
              "      if (!google.colab.kernel.accessAllowed) {\n",
              "        return;\n",
              "      }\n",
              "      const div = document.createElement('div');\n",
              "      const label = document.createElement('label');\n",
              "      label.textContent = `Downloading \"${filename}\": `;\n",
              "      div.appendChild(label);\n",
              "      const progress = document.createElement('progress');\n",
              "      progress.max = size;\n",
              "      div.appendChild(progress);\n",
              "      document.body.appendChild(div);\n",
              "\n",
              "      const buffers = [];\n",
              "      let downloaded = 0;\n",
              "\n",
              "      const channel = await google.colab.kernel.comms.open(id);\n",
              "      // Send a message to notify the kernel that we're ready.\n",
              "      channel.send({})\n",
              "\n",
              "      for await (const message of channel.messages) {\n",
              "        // Send a message to notify the kernel that we're ready.\n",
              "        channel.send({})\n",
              "        if (message.buffers) {\n",
              "          for (const buffer of message.buffers) {\n",
              "            buffers.push(buffer);\n",
              "            downloaded += buffer.byteLength;\n",
              "            progress.value = downloaded;\n",
              "          }\n",
              "        }\n",
              "      }\n",
              "      const blob = new Blob(buffers, {type: 'application/binary'});\n",
              "      const a = document.createElement('a');\n",
              "      a.href = window.URL.createObjectURL(blob);\n",
              "      a.download = filename;\n",
              "      div.appendChild(a);\n",
              "      a.click();\n",
              "      div.remove();\n",
              "    }\n",
              "  "
            ],
            "text/plain": [
              "<IPython.core.display.Javascript object>"
            ]
          },
          "metadata": {}
        },
        {
          "output_type": "display_data",
          "data": {
            "application/javascript": [
              "download(\"download_104f438c-578c-4ea4-bd23-a71496a2e7ad\", \"compare_msg_failure_push-pull_mesh.png\", 21013)"
            ],
            "text/plain": [
              "<IPython.core.display.Javascript object>"
            ]
          },
          "metadata": {}
        },
        {
          "output_type": "display_data",
          "data": {
            "image/png": "[encoded data removed]",
            "text/plain": [
              "<Figure size 432x288 with 1 Axes>"
            ]
          },
          "metadata": {
            "needs_background": "light"
          }
        }
      ]
    },
    {
      "cell_type": "code",
      "source": [
        "avg_progress.clear()\n",
        "occ.clear()\n",
        "\n",
        "colors = [\"blue\", \"green\", \"red\", \"orange\", \"magenta\", \"yellow\"]\n",
        "labels = [\"0%\", \"10%\", \"20%\", \"30%\", \"40%\", \"50%\"]\n",
        "\n",
        "for j in range(len(labels)):\n",
        "  perc_progress = []\n",
        "  avg_progress.clear()\n",
        "  occ.clear()\n",
        "  node_failure_prob = j*10\n",
        "  start_sim()\n",
        "  x = range(0,len(avg_progress))\n",
        "  for i in range(len(avg_progress)):\n",
        "    perc_progress.append(avg_progress[i]*100/n_nodes)\n",
        "  plt.plot(x, perc_progress, '-o', color=colors[j], label=labels[j])\n",
        "\n",
        "plt.legend()\n",
        "from google.colab import files\n",
        "plt.savefig(\"compare_node_failure_push-pull_mesh.png\")\n",
        "files.download(\"compare_node_failure_push-pull_mesh.png\")\n",
        "plt.show()"
      ],
      "metadata": {
        "colab": {
          "base_uri": "https://localhost:8080/",
          "height": 265
        },
        "id": "_7dPXTUN_rps",
        "outputId": "c0a45c21-2aec-44a6-d4d8-2e40fb8cac99"
      },
      "execution_count": null,
      "outputs": [
        {
          "output_type": "display_data",
          "data": {
            "application/javascript": [
              "\n",
              "    async function download(id, filename, size) {\n",
              "      if (!google.colab.kernel.accessAllowed) {\n",
              "        return;\n",
              "      }\n",
              "      const div = document.createElement('div');\n",
              "      const label = document.createElement('label');\n",
              "      label.textContent = `Downloading \"${filename}\": `;\n",
              "      div.appendChild(label);\n",
              "      const progress = document.createElement('progress');\n",
              "      progress.max = size;\n",
              "      div.appendChild(progress);\n",
              "      document.body.appendChild(div);\n",
              "\n",
              "      const buffers = [];\n",
              "      let downloaded = 0;\n",
              "\n",
              "      const channel = await google.colab.kernel.comms.open(id);\n",
              "      // Send a message to notify the kernel that we're ready.\n",
              "      channel.send({})\n",
              "\n",
              "      for await (const message of channel.messages) {\n",
              "        // Send a message to notify the kernel that we're ready.\n",
              "        channel.send({})\n",
              "        if (message.buffers) {\n",
              "          for (const buffer of message.buffers) {\n",
              "            buffers.push(buffer);\n",
              "            downloaded += buffer.byteLength;\n",
              "            progress.value = downloaded;\n",
              "          }\n",
              "        }\n",
              "      }\n",
              "      const blob = new Blob(buffers, {type: 'application/binary'});\n",
              "      const a = document.createElement('a');\n",
              "      a.href = window.URL.createObjectURL(blob);\n",
              "      a.download = filename;\n",
              "      div.appendChild(a);\n",
              "      a.click();\n",
              "      div.remove();\n",
              "    }\n",
              "  "
            ],
            "text/plain": [
              "<IPython.core.display.Javascript object>"
            ]
          },
          "metadata": {}
        },
        {
          "output_type": "display_data",
          "data": {
            "application/javascript": [
              "download(\"download_89724156-2974-4f0d-a407-3c1f7ed26bdc\", \"compare_node_failure_push-pull_mesh.png\", 15837)"
            ],
            "text/plain": [
              "<IPython.core.display.Javascript object>"
            ]
          },
          "metadata": {}
        },
        {
          "output_type": "display_data",
          "data": {
            "image/png": "[encoded data removed]",
            "text/plain": [
              "<Figure size 432x288 with 1 Axes>"
            ]
          },
          "metadata": {
            "needs_background": "light"
          }
        }
      ]
    }
  ],
  "metadata": {
    "colab": {
      "collapsed_sections": [],
      "name": "try_this.ipynb",
      "provenance": []
    },
    "kernelspec": {
      "display_name": "Python 3",
      "name": "python3"
    },
    "language_info": {
      "name": "python"
    }
  },
  "nbformat": 4,
  "nbformat_minor": 0
}